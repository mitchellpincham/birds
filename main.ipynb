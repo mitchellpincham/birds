{
 "cells": [
  {
   "cell_type": "code",
   "execution_count": 28,
   "metadata": {
    "id": "fPH3XMELwud5"
   },
   "outputs": [],
   "source": [
    "import pandas as pd\n",
    "import numpy as np\n",
    "import matplotlib.pyplot as plt\n",
    "import seaborn as sns\n",
    "import tempfile\n",
    "\n",
    "import librosa\n",
    "import librosa.display\n",
    "import IPython.display as ipd\n",
    "\n",
    "import requests\n",
    "import io\n",
    "from IPython.display import Audio"
   ]
  },
  {
   "cell_type": "code",
   "execution_count": 3,
   "metadata": {
    "id": "LS7Kht_Nx6jk"
   },
   "outputs": [],
   "source": [
    "def get_audio(url):\n",
    "\n",
    "    response = requests.get(url)\n",
    "\n",
    "    with open(\"sample_audio.mp3\", \"wb\") as file:\n",
    "        file.write(response.content)\n",
    "\n",
    "    Audio(\"sample_audio.mp3\")"
   ]
  },
  {
   "cell_type": "code",
   "execution_count": 7,
   "metadata": {
    "id": "2c3DoEMm8V_s"
   },
   "outputs": [],
   "source": [
    "kokako = pd.read_csv(\"observations-kokako.csv\")\n",
    "tui = pd.read_csv(\"observations-tui.csv\")\n",
    "kiwi = pd.read_csv(\"observations-kiwi.csv\")\n",
    "ruru = pd.read_csv(\"observations-ruru.csv\")\n",
    "kaka = pd.read_csv(\"observations-kaka.csv\")\n",
    "tieke = pd.read_csv(\"observations-tieke.csv\")\n",
    "\n"
   ]
  },
  {
   "cell_type": "code",
   "execution_count": 8,
   "metadata": {
    "colab": {
     "base_uri": "https://localhost:8080/"
    },
    "id": "k_ZV5To89qd7",
    "outputId": "2d431baa-557f-4b29-d4a8-3f0e07d04240"
   },
   "outputs": [
    {
     "name": "stdout",
     "output_type": "stream",
     "text": [
      "(22, 39)\n",
      "(513, 39)\n",
      "(31, 39)\n",
      "(383, 39)\n",
      "(190, 39)\n",
      "(59, 39)\n"
     ]
    }
   ],
   "source": [
    "print(kokako.shape)\n",
    "print(tui.shape)\n",
    "print(kiwi.shape)\n",
    "print(ruru.shape)\n",
    "print(kaka.shape)\n",
    "print(tieke.shape)"
   ]
  },
  {
   "cell_type": "code",
   "execution_count": 9,
   "metadata": {
    "colab": {
     "base_uri": "https://localhost:8080/"
    },
    "id": "WMc3yOZqCe15",
    "outputId": "e4669b68-e26b-4c58-cbc2-942e6abbe0ad"
   },
   "outputs": [
    {
     "data": {
      "text/plain": [
       "Index(['id', 'observed_on_string', 'observed_on', 'time_observed_at',\n",
       "       'time_zone', 'user_id', 'user_login', 'user_name', 'created_at',\n",
       "       'updated_at', 'quality_grade', 'license', 'url', 'image_url',\n",
       "       'sound_url', 'tag_list', 'description', 'num_identification_agreements',\n",
       "       'num_identification_disagreements', 'captive_cultivated',\n",
       "       'oauth_application_id', 'place_guess', 'latitude', 'longitude',\n",
       "       'positional_accuracy', 'private_place_guess', 'private_latitude',\n",
       "       'private_longitude', 'public_positional_accuracy', 'geoprivacy',\n",
       "       'taxon_geoprivacy', 'coordinates_obscured', 'positioning_method',\n",
       "       'positioning_device', 'species_guess', 'scientific_name', 'common_name',\n",
       "       'iconic_taxon_name', 'taxon_id'],\n",
       "      dtype='object')"
      ]
     },
     "execution_count": 9,
     "metadata": {},
     "output_type": "execute_result"
    }
   ],
   "source": [
    "# merge then shuffle\n",
    "df = pd.concat([kokako, tui, kiwi, ruru, kaka, tieke])\n",
    "df = df.sample(frac=1)\n",
    "df.columns"
   ]
  },
  {
   "cell_type": "code",
   "execution_count": 10,
   "metadata": {
    "colab": {
     "base_uri": "https://localhost:8080/"
    },
    "id": "SicHqbSWaGqa",
    "outputId": "2cb01a3f-add3-4c64-faee-20a7cc222833"
   },
   "outputs": [
    {
     "name": "stdout",
     "output_type": "stream",
     "text": [
      "(1198, 39)\n"
     ]
    }
   ],
   "source": [
    "print(df.shape)"
   ]
  },
  {
   "cell_type": "code",
   "execution_count": 11,
   "metadata": {
    "colab": {
     "base_uri": "https://localhost:8080/",
     "height": 363
    },
    "id": "8kVyPShsCz6r",
    "outputId": "8d85fcf8-b6bf-436a-9c39-68efbd917149"
   },
   "outputs": [
    {
     "data": {
      "text/html": [
       "<div>\n",
       "<style scoped>\n",
       "    .dataframe tbody tr th:only-of-type {\n",
       "        vertical-align: middle;\n",
       "    }\n",
       "\n",
       "    .dataframe tbody tr th {\n",
       "        vertical-align: top;\n",
       "    }\n",
       "\n",
       "    .dataframe thead th {\n",
       "        text-align: right;\n",
       "    }\n",
       "</style>\n",
       "<table border=\"1\" class=\"dataframe\">\n",
       "  <thead>\n",
       "    <tr style=\"text-align: right;\">\n",
       "      <th></th>\n",
       "      <th>id</th>\n",
       "      <th>sound_url</th>\n",
       "      <th>common_name</th>\n",
       "    </tr>\n",
       "  </thead>\n",
       "  <tbody>\n",
       "    <tr>\n",
       "      <th>12</th>\n",
       "      <td>138369183</td>\n",
       "      <td>https://static.inaturalist.org/sounds/548058.m...</td>\n",
       "      <td>North Island Brown Kiwi</td>\n",
       "    </tr>\n",
       "    <tr>\n",
       "      <th>186</th>\n",
       "      <td>111485307</td>\n",
       "      <td>https://static.inaturalist.org/sounds/393589.m...</td>\n",
       "      <td>Tūī (Mainland Tūī)</td>\n",
       "    </tr>\n",
       "    <tr>\n",
       "      <th>10</th>\n",
       "      <td>14473675</td>\n",
       "      <td>https://static.inaturalist.org/sounds/24301.mp...</td>\n",
       "      <td>South Island Kākā</td>\n",
       "    </tr>\n",
       "    <tr>\n",
       "      <th>58</th>\n",
       "      <td>247834145</td>\n",
       "      <td>https://static.inaturalist.org/sounds/1231813....</td>\n",
       "      <td>Tīeke (North Island Saddleback)</td>\n",
       "    </tr>\n",
       "    <tr>\n",
       "      <th>342</th>\n",
       "      <td>164160065</td>\n",
       "      <td>https://static.inaturalist.org/sounds/715617.m...</td>\n",
       "      <td>Tūī (Mainland Tūī)</td>\n",
       "    </tr>\n",
       "    <tr>\n",
       "      <th>44</th>\n",
       "      <td>75742929</td>\n",
       "      <td>https://static.inaturalist.org/sounds/198870.m...</td>\n",
       "      <td>North Island Kākā</td>\n",
       "    </tr>\n",
       "    <tr>\n",
       "      <th>142</th>\n",
       "      <td>96820530</td>\n",
       "      <td>https://static.inaturalist.org/sounds/311720.m...</td>\n",
       "      <td>Tūī (Mainland Tūī)</td>\n",
       "    </tr>\n",
       "    <tr>\n",
       "      <th>56</th>\n",
       "      <td>33181948</td>\n",
       "      <td>https://static.inaturalist.org/sounds/47355.mp...</td>\n",
       "      <td>Tūī (Mainland Tūī)</td>\n",
       "    </tr>\n",
       "    <tr>\n",
       "      <th>38</th>\n",
       "      <td>24429375</td>\n",
       "      <td>https://static.inaturalist.org/sounds/37369.wa...</td>\n",
       "      <td>Ruru (Morepork)</td>\n",
       "    </tr>\n",
       "    <tr>\n",
       "      <th>464</th>\n",
       "      <td>215815892</td>\n",
       "      <td>https://static.inaturalist.org/sounds/1038897....</td>\n",
       "      <td>Tūī (Mainland Tūī)</td>\n",
       "    </tr>\n",
       "  </tbody>\n",
       "</table>\n",
       "</div>"
      ],
      "text/plain": [
       "            id                                          sound_url  \\\n",
       "12   138369183  https://static.inaturalist.org/sounds/548058.m...   \n",
       "186  111485307  https://static.inaturalist.org/sounds/393589.m...   \n",
       "10    14473675  https://static.inaturalist.org/sounds/24301.mp...   \n",
       "58   247834145  https://static.inaturalist.org/sounds/1231813....   \n",
       "342  164160065  https://static.inaturalist.org/sounds/715617.m...   \n",
       "44    75742929  https://static.inaturalist.org/sounds/198870.m...   \n",
       "142   96820530  https://static.inaturalist.org/sounds/311720.m...   \n",
       "56    33181948  https://static.inaturalist.org/sounds/47355.mp...   \n",
       "38    24429375  https://static.inaturalist.org/sounds/37369.wa...   \n",
       "464  215815892  https://static.inaturalist.org/sounds/1038897....   \n",
       "\n",
       "                         common_name  \n",
       "12           North Island Brown Kiwi  \n",
       "186               Tūī (Mainland Tūī)  \n",
       "10                 South Island Kākā  \n",
       "58   Tīeke (North Island Saddleback)  \n",
       "342               Tūī (Mainland Tūī)  \n",
       "44                 North Island Kākā  \n",
       "142               Tūī (Mainland Tūī)  \n",
       "56                Tūī (Mainland Tūī)  \n",
       "38                   Ruru (Morepork)  \n",
       "464               Tūī (Mainland Tūī)  "
      ]
     },
     "execution_count": 11,
     "metadata": {},
     "output_type": "execute_result"
    }
   ],
   "source": [
    "df = df[[\"id\", \"sound_url\", \"common_name\"]]\n",
    "df.head(10)"
   ]
  },
  {
   "cell_type": "code",
   "execution_count": 13,
   "metadata": {
    "colab": {
     "base_uri": "https://localhost:8080/",
     "height": 415
    },
    "id": "GmuYoeG7GKXl",
    "outputId": "9288e375-2765-40e8-b2c4-471bf8370545"
   },
   "outputs": [
    {
     "data": {
      "text/html": [
       "<div>\n",
       "<style scoped>\n",
       "    .dataframe tbody tr th:only-of-type {\n",
       "        vertical-align: middle;\n",
       "    }\n",
       "\n",
       "    .dataframe tbody tr th {\n",
       "        vertical-align: top;\n",
       "    }\n",
       "\n",
       "    .dataframe thead th {\n",
       "        text-align: right;\n",
       "    }\n",
       "</style>\n",
       "<table border=\"1\" class=\"dataframe\">\n",
       "  <thead>\n",
       "    <tr style=\"text-align: right;\">\n",
       "      <th></th>\n",
       "      <th>id</th>\n",
       "      <th>sound_url</th>\n",
       "      <th>common_name_Kākā</th>\n",
       "      <th>common_name_North Island Brown Kiwi</th>\n",
       "      <th>common_name_North Island Kākā</th>\n",
       "      <th>common_name_North Island Kōkako</th>\n",
       "      <th>common_name_Ruru (Morepork)</th>\n",
       "      <th>common_name_South Island Kākā</th>\n",
       "      <th>common_name_Tīeke (North Island Saddleback)</th>\n",
       "      <th>common_name_Tūī (Mainland Tūī)</th>\n",
       "    </tr>\n",
       "  </thead>\n",
       "  <tbody>\n",
       "    <tr>\n",
       "      <th>372</th>\n",
       "      <td>180834036</td>\n",
       "      <td>https://static.inaturalist.org/sounds/802599.w...</td>\n",
       "      <td>False</td>\n",
       "      <td>False</td>\n",
       "      <td>False</td>\n",
       "      <td>False</td>\n",
       "      <td>False</td>\n",
       "      <td>False</td>\n",
       "      <td>False</td>\n",
       "      <td>True</td>\n",
       "    </tr>\n",
       "    <tr>\n",
       "      <th>153</th>\n",
       "      <td>107875725</td>\n",
       "      <td>https://static.inaturalist.org/sounds/365216.m...</td>\n",
       "      <td>False</td>\n",
       "      <td>False</td>\n",
       "      <td>False</td>\n",
       "      <td>False</td>\n",
       "      <td>True</td>\n",
       "      <td>False</td>\n",
       "      <td>False</td>\n",
       "      <td>False</td>\n",
       "    </tr>\n",
       "    <tr>\n",
       "      <th>296</th>\n",
       "      <td>197764252</td>\n",
       "      <td>https://static.inaturalist.org/sounds/885364.m...</td>\n",
       "      <td>False</td>\n",
       "      <td>False</td>\n",
       "      <td>False</td>\n",
       "      <td>False</td>\n",
       "      <td>True</td>\n",
       "      <td>False</td>\n",
       "      <td>False</td>\n",
       "      <td>False</td>\n",
       "    </tr>\n",
       "    <tr>\n",
       "      <th>48</th>\n",
       "      <td>196101581</td>\n",
       "      <td>https://static.inaturalist.org/sounds/872989.m...</td>\n",
       "      <td>False</td>\n",
       "      <td>False</td>\n",
       "      <td>False</td>\n",
       "      <td>False</td>\n",
       "      <td>False</td>\n",
       "      <td>False</td>\n",
       "      <td>True</td>\n",
       "      <td>False</td>\n",
       "    </tr>\n",
       "    <tr>\n",
       "      <th>93</th>\n",
       "      <td>61977126</td>\n",
       "      <td>https://static.inaturalist.org/sounds/141236.m...</td>\n",
       "      <td>False</td>\n",
       "      <td>False</td>\n",
       "      <td>False</td>\n",
       "      <td>False</td>\n",
       "      <td>False</td>\n",
       "      <td>False</td>\n",
       "      <td>False</td>\n",
       "      <td>True</td>\n",
       "    </tr>\n",
       "  </tbody>\n",
       "</table>\n",
       "</div>"
      ],
      "text/plain": [
       "            id                                          sound_url  \\\n",
       "372  180834036  https://static.inaturalist.org/sounds/802599.w...   \n",
       "153  107875725  https://static.inaturalist.org/sounds/365216.m...   \n",
       "296  197764252  https://static.inaturalist.org/sounds/885364.m...   \n",
       "48   196101581  https://static.inaturalist.org/sounds/872989.m...   \n",
       "93    61977126  https://static.inaturalist.org/sounds/141236.m...   \n",
       "\n",
       "     common_name_Kākā  common_name_North Island Brown Kiwi  \\\n",
       "372             False                                False   \n",
       "153             False                                False   \n",
       "296             False                                False   \n",
       "48              False                                False   \n",
       "93              False                                False   \n",
       "\n",
       "     common_name_North Island Kākā  common_name_North Island Kōkako  \\\n",
       "372                          False                            False   \n",
       "153                          False                            False   \n",
       "296                          False                            False   \n",
       "48                           False                            False   \n",
       "93                           False                            False   \n",
       "\n",
       "     common_name_Ruru (Morepork)  common_name_South Island Kākā  \\\n",
       "372                        False                          False   \n",
       "153                         True                          False   \n",
       "296                         True                          False   \n",
       "48                         False                          False   \n",
       "93                         False                          False   \n",
       "\n",
       "     common_name_Tīeke (North Island Saddleback)  \\\n",
       "372                                        False   \n",
       "153                                        False   \n",
       "296                                        False   \n",
       "48                                          True   \n",
       "93                                         False   \n",
       "\n",
       "     common_name_Tūī (Mainland Tūī)  \n",
       "372                            True  \n",
       "153                           False  \n",
       "296                           False  \n",
       "48                            False  \n",
       "93                             True  "
      ]
     },
     "execution_count": 13,
     "metadata": {},
     "output_type": "execute_result"
    }
   ],
   "source": [
    "df_dummies = pd.get_dummies(df, columns=['common_name'])\n",
    "df_dummies.tail()"
   ]
  },
  {
   "cell_type": "code",
   "execution_count": null,
   "metadata": {},
   "outputs": [
    {
     "data": {
      "text/html": [
       "\n",
       "                <audio  controls=\"controls\" >\n",
       "                    <source src=\"https://static.inaturalist.org/sounds/393589.mp3?1649992379\" type=\"audio/mpeg\" />\n",
       "                    Your browser does not support the audio element.\n",
       "                </audio>\n",
       "              "
      ],
      "text/plain": [
       "<IPython.lib.display.Audio object>"
      ]
     },
     "execution_count": 22,
     "metadata": {},
     "output_type": "execute_result"
    }
   ],
   "source": [
    "url = df_dummies['sound_url'].iloc[1]\n",
    "\n",
    "#audio = ipd.Audio(url=url)\n",
    "#audio"
   ]
  },
  {
   "cell_type": "code",
   "execution_count": 29,
   "metadata": {},
   "outputs": [
    {
     "name": "stdout",
     "output_type": "stream",
     "text": [
      "good\n"
     ]
    }
   ],
   "source": [
    "url = df_dummies['sound_url'].iloc[1]\n",
    "\n",
    "response = requests.get(url)\n",
    "\n",
    "if response.status_code == 200:\n",
    "\n",
    "    audio_bytes = io.BytesIO(response.content)\n",
    "    y, sr = librosa.load(audio_bytes, sr=None)\n",
    "    print(\"good\")\n",
    "\n",
    "else:\n",
    "    print(f\"Network error code: {response.status_code}\")"
   ]
  },
  {
   "cell_type": "code",
   "execution_count": null,
   "metadata": {},
   "outputs": [
    {
     "name": "stdout",
     "output_type": "stream",
     "text": [
      "[0.0000000e+00 0.0000000e+00 0.0000000e+00 ... 2.6667857e-07 2.1971564e-07\n",
      " 2.3521025e-07]\n",
      "44100\n"
     ]
    }
   ],
   "source": []
  }
 ],
 "metadata": {
  "colab": {
   "provenance": []
  },
  "kernelspec": {
   "display_name": "Python 3",
   "name": "python3"
  },
  "language_info": {
   "codemirror_mode": {
    "name": "ipython",
    "version": 3
   },
   "file_extension": ".py",
   "mimetype": "text/x-python",
   "name": "python",
   "nbconvert_exporter": "python",
   "pygments_lexer": "ipython3",
   "version": "3.12.3"
  }
 },
 "nbformat": 4,
 "nbformat_minor": 0
}
