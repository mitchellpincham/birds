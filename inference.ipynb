{
 "cells": [
  {
   "cell_type": "code",
   "execution_count": 1,
   "metadata": {},
   "outputs": [],
   "source": [
    "import torch\n",
    "import torchaudio\n",
    "from cnn import CNNNetwork\n",
    "from dataset import BirdDataset\n",
    "from torch.utils.data import DataLoader\n",
    "from train import SAMPLE_RATE, NUM_SAMPLES\n",
    "\n",
    "class_mapping = [\n",
    "    \"kaka\",\n",
    "    \"kiwi\",\n",
    "    \"kokako\",\n",
    "    \"ruru\",\n",
    "    \"tui\",\n",
    "    \"tieke\"\n",
    "]"
   ]
  },
  {
   "cell_type": "code",
   "execution_count": 2,
   "metadata": {},
   "outputs": [],
   "source": [
    "def predict(model, input, target, class_mapping):\n",
    "    model.eval() # switches the model to prediction, use model.train() to switch to training mode\n",
    "    \n",
    "    with torch.no_grad():\n",
    "        predictions = model(input) # -> [[0.1, 0.0, ..., 0.7]]\n",
    "        predicted_index = predictions[0].argmax(0)\n",
    "        predicted = class_mapping[predicted_index]\n",
    "\n",
    "        expected = class_mapping[target]\n",
    "    \n",
    "    return predicted, expected"
   ]
  },
  {
   "cell_type": "code",
   "execution_count": 3,
   "metadata": {},
   "outputs": [
    {
     "name": "stderr",
     "output_type": "stream",
     "text": [
      "C:\\Users\\Mitchell Pincham\\AppData\\Local\\Temp\\ipykernel_6860\\2860347440.py:3: FutureWarning: You are using `torch.load` with `weights_only=False` (the current default value), which uses the default pickle module implicitly. It is possible to construct malicious pickle data which will execute arbitrary code during unpickling (See https://github.com/pytorch/pytorch/blob/main/SECURITY.md#untrusted-models for more details). In a future release, the default value for `weights_only` will be flipped to `True`. This limits the functions that could be executed during unpickling. Arbitrary objects will no longer be allowed to be loaded via this mode unless they are explicitly allowlisted by the user via `torch.serialization.add_safe_globals`. We recommend you start setting `weights_only=True` for any use case where you don't have full control of the loaded file. Please open an issue on GitHub for any issues related to this experimental feature.\n",
      "  state_dict = torch.load(\"cnn.pth\")\n"
     ]
    },
    {
     "data": {
      "text/plain": [
       "<All keys matched successfully>"
      ]
     },
     "execution_count": 3,
     "metadata": {},
     "output_type": "execute_result"
    }
   ],
   "source": [
    "# load back the model\n",
    "cnn = CNNNetwork()\n",
    "state_dict = torch.load(\"cnn.pth\")\n",
    "cnn.load_state_dict(state_dict)\n"
   ]
  },
  {
   "cell_type": "code",
   "execution_count": 4,
   "metadata": {},
   "outputs": [],
   "source": [
    "# load urban sound validation dataset\n",
    "mel_spectrogram = torchaudio.transforms.MelSpectrogram(\n",
    "    sample_rate=SAMPLE_RATE, n_fft=1024,hop_length=512, n_mels=64)\n",
    "\n",
    "dataset = BirdDataset(mel_spectrogram, \"cpu\", SAMPLE_RATE, NUM_SAMPLES)"
   ]
  },
  {
   "cell_type": "code",
   "execution_count": 10,
   "metadata": {},
   "outputs": [
    {
     "name": "stdout",
     "output_type": "stream",
     "text": [
      "577\n",
      "1193\n"
     ]
    }
   ],
   "source": [
    "# get a sample from the validaton dataset for inference\n",
    "\n",
    "correct = 0\n",
    "total = 0\n",
    "for input, target in dataset:\n",
    "    total += 1\n",
    "    input.unsqueeze_(0)\n",
    "\n",
    "    # make an inference\n",
    "    predicted, expected = predict(cnn, input, target, class_mapping)\n",
    "\n",
    "    if predicted == expected:\n",
    "        correct += 1\n",
    "\n",
    "print(correct)\n",
    "print(total)"
   ]
  },
  {
   "cell_type": "code",
   "execution_count": null,
   "metadata": {},
   "outputs": [
    {
     "name": "stdout",
     "output_type": "stream",
     "text": [
      "Predicted = tui, Expected = tui\n"
     ]
    }
   ],
   "source": [
    "# make an inference\n",
    "predicted, expected = predict(cnn, input, target, class_mapping)\n",
    "\n",
    "print(f\"Predicted = {predicted}, Expected = {expected}\")"
   ]
  }
 ],
 "metadata": {
  "kernelspec": {
   "display_name": "Python 3",
   "language": "python",
   "name": "python3"
  },
  "language_info": {
   "codemirror_mode": {
    "name": "ipython",
    "version": 3
   },
   "file_extension": ".py",
   "mimetype": "text/x-python",
   "name": "python",
   "nbconvert_exporter": "python",
   "pygments_lexer": "ipython3",
   "version": "3.12.3"
  }
 },
 "nbformat": 4,
 "nbformat_minor": 2
}
